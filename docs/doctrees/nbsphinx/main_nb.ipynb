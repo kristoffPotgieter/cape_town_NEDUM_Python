{
 "cells": [
  {
   "cell_type": "markdown",
   "id": "d8171916",
   "metadata": {},
   "source": [
    "# Notebook: run model"
   ]
  },
  {
   "cell_type": "markdown",
   "id": "eb194064",
   "metadata": {},
   "source": [
    "## Preamble\n",
    "\n",
    "### Import packages"
   ]
  },
  {
   "cell_type": "code",
   "execution_count": null,
   "id": "aab0f13f",
   "metadata": {},
   "outputs": [],
   "source": [
    "# We import standard Python libraries\n",
    "import numpy as np\n",
    "import pandas as pd\n",
    "import os\n",
    "\n",
    "# We also import our own packages\n",
    "import inputs.data as inpdt\n",
    "import inputs.parameters_and_options as inpprm\n",
    "import equilibrium.compute_equilibrium as eqcmp\n",
    "import equilibrium.run_simulations as eqsim\n",
    "import equilibrium.functions_dynamic as eqdyn"
   ]
  },
  {
   "cell_type": "markdown",
   "id": "f9bb5e00",
   "metadata": {},
   "source": [
    "### Define file paths"
   ]
  },
  {
   "cell_type": "code",
   "execution_count": null,
   "id": "4b266ca1",
   "metadata": {},
   "outputs": [],
   "source": [
    "path_code = '..'\n",
    "path_folder = path_code + '/2. Data/'\n",
    "path_precalc_inp = path_folder + '0. Precalculated inputs/'\n",
    "path_data = path_folder + 'data_Cape_Town/'\n",
    "path_precalc_transp = path_folder + 'precalculated_transport/'\n",
    "path_scenarios = path_folder + 'data_Cape_Town/Scenarios/'\n",
    "path_outputs = path_code + '/4. Output/'\n",
    "path_floods = path_folder + \"FATHOM/\""
   ]
  },
  {
   "cell_type": "markdown",
   "id": "2a52ebdb",
   "metadata": {},
   "source": [
    "### Set timeline for simulations"
   ]
  },
  {
   "cell_type": "code",
   "execution_count": null,
   "id": "e4fa3961",
   "metadata": {
    "lines_to_next_cell": 2
   },
   "outputs": [],
   "source": [
    "t = np.arange(0, 30)"
   ]
  },
  {
   "cell_type": "markdown",
   "id": "10281f61",
   "metadata": {},
   "source": [
    "## Import parameters and options"
   ]
  },
  {
   "cell_type": "markdown",
   "id": "94148a0d",
   "metadata": {},
   "source": [
    "### We import default parameter and options"
   ]
  },
  {
   "cell_type": "code",
   "execution_count": null,
   "id": "9667b1f0",
   "metadata": {},
   "outputs": [],
   "source": [
    "options = inpprm.import_options()\n",
    "param = inpprm.import_param(\n",
    "    path_precalc_inp, path_outputs, path_folder, options)"
   ]
  },
  {
   "cell_type": "markdown",
   "id": "7fa5400f",
   "metadata": {},
   "source": [
    "### We also set custom options for this simulation"
   ]
  },
  {
   "cell_type": "markdown",
   "id": "b278dbb7",
   "metadata": {},
   "source": [
    "#### We first set options regarding structural assumptions used in the model"
   ]
  },
  {
   "cell_type": "code",
   "execution_count": null,
   "id": "e5a6ce93",
   "metadata": {},
   "outputs": [],
   "source": [
    "# Dummy for taking floods into account in agents' choices\n",
    "options[\"agents_anticipate_floods\"] = 1\n",
    "# Dummy for preventing new informal settlement development\n",
    "options[\"informal_land_constrained\"] = 0"
   ]
  },
  {
   "cell_type": "markdown",
   "id": "901a0dc1",
   "metadata": {},
   "source": [
    "#### Then we set options regarding flood data used"
   ]
  },
  {
   "cell_type": "code",
   "execution_count": null,
   "id": "19aff1bd",
   "metadata": {},
   "outputs": [],
   "source": [
    "# Dummy for taking pluvial floods into account (on top of fluvial floods)\n",
    "options[\"pluvial\"] = 1\n",
    "# Dummy for reducing pluvial risk for (better protected) formal structures\n",
    "options[\"correct_pluvial\"] = 1\n",
    "# Dummy for taking coastal floods into account (on top of fluvial floods)\n",
    "options[\"coastal\"] = 1\n",
    "# Digital elevation model to be used with coastal floods (MERITDEM or NASADEM)\n",
    "# NB: MERITDEM is also the DEM used for fluvial and pluvial flood data\n",
    "options[\"dem\"] = \"MERITDEM\"\n",
    "# Dummy for taking defended (vs. undefended) fluvial flood maps\n",
    "# NB: FATHOM recommends to use undefended maps due to the high uncertainty\n",
    "# in infrastructure modelling\n",
    "options[\"defended\"] = 1\n",
    "# Dummy for taking sea-level rise into account in coastal flood data\n",
    "# NB: Projections are up to 2050, based upon IPCC AR5 assessment for the\n",
    "# RCP 8.5 scenario\n",
    "options[\"slr\"] = 1"
   ]
  },
  {
   "cell_type": "markdown",
   "id": "d91b39a6",
   "metadata": {},
   "source": [
    "#### We also set options for scenarios on time-moving exogenous variables"
   ]
  },
  {
   "cell_type": "code",
   "execution_count": null,
   "id": "166586ad",
   "metadata": {},
   "outputs": [],
   "source": [
    "# NB: Must be set to 1/2/3 for low/medium/high growth scenario\n",
    "options[\"inc_ineq_scenario\"] = 2\n",
    "options[\"pop_growth_scenario\"] = 3\n",
    "options[\"fuel_price_scenario\"] = 2"
   ]
  },
  {
   "cell_type": "markdown",
   "id": "408da931",
   "metadata": {},
   "source": [
    "#### Finally, we set options regarding data processing"
   ]
  },
  {
   "cell_type": "markdown",
   "id": "b6cc2945",
   "metadata": {},
   "source": [
    "Default is set at zero to save computing time\n",
    "(data is simply loaded in the model)\n",
    "\n",
    "NB: this is only needed to create the data for the first time, or when the\n",
    "source is changed, so that pre-processed data is updated"
   ]
  },
  {
   "cell_type": "code",
   "execution_count": null,
   "id": "4fec8b5b",
   "metadata": {
    "lines_to_next_cell": 2
   },
   "outputs": [],
   "source": [
    "# Dummy for converting small-area-level (SAL) data into grid-level data\n",
    "# (used for result validation)\n",
    "options[\"convert_sal_data\"] = 0\n",
    "# Dummy for computing expected income net of commuting costs on the basis\n",
    "# of calibrated wages\n",
    "options[\"compute_net_income\"] = 0"
   ]
  },
  {
   "cell_type": "markdown",
   "id": "0ab57012",
   "metadata": {},
   "source": [
    "## Give name to simulation to export the results"
   ]
  },
  {
   "cell_type": "code",
   "execution_count": null,
   "id": "8dc97094",
   "metadata": {
    "lines_to_next_cell": 2
   },
   "outputs": [],
   "source": [
    "# NB: this changes according to custom parameters of interest\n",
    "name = ('floods' + str(options[\"agents_anticipate_floods\"])\n",
    "        + str(options[\"informal_land_constrained\"])\n",
    "        + '_F' + str(options[\"defended\"])\n",
    "        + '_P' + str(options[\"pluvial\"]) + str(options[\"correct_pluvial\"])\n",
    "        + '_C' + str(options[\"coastal\"]) + str(options[\"slr\"])\n",
    "        + '_scenario' + str(options[\"inc_ineq_scenario\"])\n",
    "        + str(options[\"pop_growth_scenario\"])\n",
    "        + str(options[\"fuel_price_scenario\"]))"
   ]
  },
  {
   "cell_type": "markdown",
   "id": "ebff1070",
   "metadata": {},
   "source": [
    "## Load data"
   ]
  },
  {
   "cell_type": "markdown",
   "id": "819fedee",
   "metadata": {},
   "source": [
    "### Basic geographic data"
   ]
  },
  {
   "cell_type": "code",
   "execution_count": null,
   "id": "c797a415",
   "metadata": {
    "lines_to_next_cell": 2
   },
   "outputs": [],
   "source": [
    "grid, center = inpdt.import_grid(path_data)\n",
    "amenities = inpdt.import_amenities(path_precalc_inp, options)"
   ]
  },
  {
   "cell_type": "markdown",
   "id": "3666eb28",
   "metadata": {},
   "source": [
    "### Macro data"
   ]
  },
  {
   "cell_type": "code",
   "execution_count": null,
   "id": "ad4339a4",
   "metadata": {
    "lines_to_next_cell": 2
   },
   "outputs": [],
   "source": [
    "(interest_rate, population, housing_type_data, total_RDP\n",
    " ) = inpdt.import_macro_data(param, path_scenarios, path_folder)"
   ]
  },
  {
   "cell_type": "markdown",
   "id": "6a133d44",
   "metadata": {},
   "source": [
    "### Households and income data"
   ]
  },
  {
   "cell_type": "code",
   "execution_count": null,
   "id": "9fda682f",
   "metadata": {},
   "outputs": [],
   "source": [
    "income_class_by_housing_type = inpdt.import_hypothesis_housing_type()\n",
    "\n",
    "(mean_income, households_per_income_class, average_income, income_mult,\n",
    " income_2011, households_per_income_and_housing\n",
    " ) = inpdt.import_income_classes_data(param, path_data)\n",
    "\n",
    "# NB: we create this parameter to maintain money illusion in simulations\n",
    "# (see eqsim.run_simulation function)\n",
    "param[\"income_year_reference\"] = mean_income\n",
    "\n",
    "# Other data at SP (small place) level used for calibration and validation\n",
    "(data_rdp, housing_types_sp, data_sp, mitchells_plain_grid_2011,\n",
    " grid_formal_density_HFA, threshold_income_distribution, income_distribution,\n",
    " cape_town_limits) = inpdt.import_households_data(path_precalc_inp)\n",
    "\n",
    "# Import nb of households per pixel, by housing type (from SAL data)\n",
    "# NB: RDP housing is included in formal, and there are both formal and informal\n",
    "# backyards\n",
    "if options[\"convert_sal_data\"] == 1:\n",
    "    housing_types = inpdt.import_sal_data(grid, path_folder, path_data,\n",
    "                                          housing_type_data)\n",
    "housing_types = pd.read_excel(path_folder + 'housing_types_grid_sal.xlsx')\n",
    "housing_types[np.isnan(housing_types)] = 0"
   ]
  },
  {
   "cell_type": "markdown",
   "id": "1ba48ac9",
   "metadata": {},
   "source": [
    "### Land use projections"
   ]
  },
  {
   "cell_type": "code",
   "execution_count": null,
   "id": "62e9dcba",
   "metadata": {},
   "outputs": [],
   "source": [
    "# We import basic projections\n",
    "(spline_RDP, spline_estimate_RDP, spline_land_RDP,\n",
    " spline_land_backyard, spline_land_informal, spline_land_constraints,\n",
    " number_properties_RDP) = (\n",
    "     inpdt.import_land_use(grid, options, param, data_rdp, housing_types,\n",
    "                           housing_type_data, path_data, path_folder)\n",
    "     )\n",
    "\n",
    "# We correct areas for each housing type at baseline year for the amount of\n",
    "# constructible land in each type\n",
    "coeff_land = inpdt.import_coeff_land(\n",
    "    spline_land_constraints, spline_land_backyard, spline_land_informal,\n",
    "    spline_land_RDP, param, 0)\n",
    "\n",
    "# We import housing heigth limits\n",
    "housing_limit = inpdt.import_housing_limit(grid, param)\n",
    "\n",
    "# We update parameter vector with construction parameters\n",
    "# (relies on loaded data) and compute other variables\n",
    "(param, minimum_housing_supply, agricultural_rent\n",
    " ) = inpprm.import_construction_parameters(\n",
    "    param, grid, housing_types_sp, data_sp[\"dwelling_size\"],\n",
    "    mitchells_plain_grid_2011, grid_formal_density_HFA, coeff_land,\n",
    "    interest_rate, options\n",
    "    )"
   ]
  },
  {
   "cell_type": "markdown",
   "id": "9a11ceb0",
   "metadata": {},
   "source": [
    "### Import flood data (takes some time when agents anticipate floods)"
   ]
  },
  {
   "cell_type": "code",
   "execution_count": null,
   "id": "b525d4a4",
   "metadata": {},
   "outputs": [],
   "source": [
    "# If agents anticipate floods, we return output from damage functions\n",
    "if options[\"agents_anticipate_floods\"] == 1:\n",
    "    (fraction_capital_destroyed, structural_damages_small_houses,\n",
    "     structural_damages_medium_houses, structural_damages_large_houses,\n",
    "     content_damages, structural_damages_type1, structural_damages_type2,\n",
    "     structural_damages_type3a, structural_damages_type3b,\n",
    "     structural_damages_type4a, structural_damages_type4b\n",
    "     ) = inpdt.import_full_floods_data(options, param, path_folder,\n",
    "                                       housing_type_data)\n",
    "\n",
    "# Else, we set those outputs as zero\n",
    "# NB: 24014 is the number of grid pixels\n",
    "elif options[\"agents_anticipate_floods\"] == 0:\n",
    "    fraction_capital_destroyed = pd.DataFrame()\n",
    "    fraction_capital_destroyed[\"structure_formal_2\"] = np.zeros(24014)\n",
    "    fraction_capital_destroyed[\"structure_formal_1\"] = np.zeros(24014)\n",
    "    fraction_capital_destroyed[\"structure_subsidized_2\"] = np.zeros(24014)\n",
    "    fraction_capital_destroyed[\"structure_subsidized_1\"] = np.zeros(24014)\n",
    "    fraction_capital_destroyed[\"contents_formal\"] = np.zeros(24014)\n",
    "    fraction_capital_destroyed[\"contents_informal\"] = np.zeros(24014)\n",
    "    fraction_capital_destroyed[\"contents_subsidized\"] = np.zeros(24014)\n",
    "    fraction_capital_destroyed[\"contents_backyard\"] = np.zeros(24014)\n",
    "    fraction_capital_destroyed[\"structure_backyards\"] = np.zeros(24014)\n",
    "    fraction_capital_destroyed[\"structure_formal_backyards\"] = np.zeros(24014)\n",
    "    fraction_capital_destroyed[\"structure_informal_backyards\"\n",
    "                               ] = np.zeros(24014)\n",
    "    fraction_capital_destroyed[\"structure_informal_settlements\"\n",
    "                               ] = np.zeros(24014)"
   ]
  },
  {
   "cell_type": "markdown",
   "id": "7c177cab",
   "metadata": {},
   "source": [
    "### Import scenarios (for time-moving variables)"
   ]
  },
  {
   "cell_type": "code",
   "execution_count": null,
   "id": "11d6ae57",
   "metadata": {},
   "outputs": [],
   "source": [
    "(spline_agricultural_rent, spline_interest_rate,\n",
    " spline_population_income_distribution, spline_inflation,\n",
    " spline_income_distribution, spline_population,\n",
    " spline_income, spline_minimum_housing_supply, spline_fuel\n",
    " ) = eqdyn.import_scenarios(income_2011, param, grid, path_scenarios,\n",
    "                            options)"
   ]
  },
  {
   "cell_type": "markdown",
   "id": "1415b29e",
   "metadata": {},
   "source": [
    "### Import income net of commuting costs (for all time periods)"
   ]
  },
  {
   "cell_type": "code",
   "execution_count": null,
   "id": "003609cf",
   "metadata": {
    "lines_to_next_cell": 2
   },
   "outputs": [],
   "source": [
    "if options[\"compute_net_income\"] == 1:\n",
    "    for t_temp in t:\n",
    "        print(t_temp)\n",
    "        (incomeNetOfCommuting, modalShares, ODflows, averageIncome\n",
    "         ) = inpdt.import_transport_data(\n",
    "             grid, param, t_temp, households_per_income_class, average_income,\n",
    "             spline_inflation, spline_fuel,\n",
    "             spline_population_income_distribution, spline_income_distribution,\n",
    "             path_precalc_inp, path_precalc_transp, 'GRID', options)\n",
    "\n",
    "income_net_of_commuting_costs = np.load(\n",
    "    path_precalc_transp + 'GRID_incomeNetOfCommuting_0.npy')"
   ]
  },
  {
   "cell_type": "markdown",
   "id": "6883d640",
   "metadata": {},
   "source": [
    "## Compute initial state equilibrium"
   ]
  },
  {
   "cell_type": "code",
   "execution_count": null,
   "id": "8369a3f0",
   "metadata": {},
   "outputs": [],
   "source": [
    "# We run the algorithm\n",
    "(initial_state_utility,\n",
    " initial_state_error,\n",
    " initial_state_simulated_jobs,\n",
    " initial_state_households_housing_types,\n",
    " initial_state_household_centers,\n",
    " initial_state_households,\n",
    " initial_state_dwelling_size,\n",
    " initial_state_housing_supply,\n",
    " initial_state_rent,\n",
    " initial_state_rent_matrix,\n",
    " initial_state_capital_land,\n",
    " initial_state_average_income,\n",
    " initial_state_limit_city) = eqcmp.compute_equilibrium(\n",
    "     fraction_capital_destroyed,\n",
    "     amenities,\n",
    "     param,\n",
    "     housing_limit,\n",
    "     population,\n",
    "     households_per_income_class,\n",
    "     total_RDP,\n",
    "     coeff_land,\n",
    "     income_net_of_commuting_costs,\n",
    "     grid,\n",
    "     options,\n",
    "     agricultural_rent,\n",
    "     interest_rate,\n",
    "     number_properties_RDP,\n",
    "     average_income,\n",
    "     mean_income,\n",
    "     income_class_by_housing_type,\n",
    "     minimum_housing_supply,\n",
    "     param[\"coeff_A\"],\n",
    "     income_2011)"
   ]
  },
  {
   "cell_type": "markdown",
   "id": "b396debe",
   "metadata": {},
   "source": [
    "Reminder: income groups are ranked from poorer to richer, and housing types\n",
    "follow the following order: formal-backyard-informal-RDP"
   ]
  },
  {
   "cell_type": "markdown",
   "id": "8f093748",
   "metadata": {},
   "source": [
    "Note on outputs (with dimensions in same order as axes):\n",
    "\n",
    "initial_state_utility = utility for each income group (no RDP)\n",
    "  after optimization\n",
    "\n",
    "initial_state_error = value of error term for each group after optimization\n",
    "\n",
    "initial_state_simulated_jobs = total number of households per housing type\n",
    "  (no RDP) and income group\n",
    "\n",
    "initial_state_households_housing_types = number of households\n",
    "  per housing type (with RDP) per pixel\n",
    "\n",
    "initial_state_household_centers = number of households per income group\n",
    "  per pixel\n",
    "\n",
    "initial_state_households = number of households in each housing type\n",
    "  and income group per pixel\n",
    "\n",
    "initial_state_dwelling_size = dwelling size (in m²) for each housing type\n",
    "  per pixel\n",
    "\n",
    "initial_state_housing_supply = housing surface built (in m²) per unit of\n",
    "  available land (in km²) for each housing type in each pixel\n",
    "\n",
    "initial_state_rent = average rent (in rands/m²) for each housing type\n",
    "  in each pixel\n",
    "\n",
    "initial_state_rent_matrix = average willingness to pay (in rands)\n",
    "  for each housing type (no RDP) and each income group in each pixel\n",
    "\n",
    "initial_state_capital_land = value of the (housing construction sector)\n",
    "  capital stock (in available-land unit equivalent) per unit of available\n",
    "  land (in km²) in each housing type (no RDP) and each selected pixel\n",
    "\n",
    "initial_state_average_income = average income per income group\n",
    "  (not an output of the model)\n",
    "\n",
    "initial_state_limit_city = indicator dummy for having strictly more\n",
    "  than one household per housing type and income group in each pixel"
   ]
  },
  {
   "cell_type": "code",
   "execution_count": null,
   "id": "d3cbca8a",
   "metadata": {},
   "outputs": [],
   "source": [
    "# We create the associated output directory\n",
    "try:\n",
    "    os.mkdir(path_outputs + name)\n",
    "except OSError as error:\n",
    "    print(error)"
   ]
  },
  {
   "cell_type": "code",
   "execution_count": null,
   "id": "78d5f86d",
   "metadata": {
    "lines_to_next_cell": 2
   },
   "outputs": [],
   "source": [
    "# We save the output\n",
    "np.save(path_outputs + name + '/initial_state_utility.npy',\n",
    "        initial_state_utility)\n",
    "np.save(path_outputs + name + '/initial_state_error.npy',\n",
    "        initial_state_error)\n",
    "np.save(path_outputs + name + '/initial_state_simulated_jobs.npy',\n",
    "        initial_state_simulated_jobs)\n",
    "np.save(path_outputs + name + '/initial_state_households_housing_types.npy',\n",
    "        initial_state_households_housing_types)\n",
    "np.save(path_outputs + name + '/initial_state_household_centers.npy',\n",
    "        initial_state_household_centers)\n",
    "np.save(path_outputs + name + '/initial_state_households.npy',\n",
    "        initial_state_households)\n",
    "np.save(path_outputs + name + '/initial_state_dwelling_size.npy',\n",
    "        initial_state_dwelling_size)\n",
    "np.save(path_outputs + name + '/initial_state_housing_supply.npy',\n",
    "        initial_state_housing_supply)\n",
    "np.save(path_outputs + name + '/initial_state_rent.npy',\n",
    "        initial_state_rent)\n",
    "np.save(path_outputs + name + '/initial_state_rent_matrix.npy',\n",
    "        initial_state_rent_matrix)\n",
    "np.save(path_outputs + name + '/initial_state_capital_land.npy',\n",
    "        initial_state_capital_land)\n",
    "np.save(path_outputs + name + '/initial_state_average_income.npy',\n",
    "        initial_state_average_income)\n",
    "np.save(path_outputs + name + '/initial_state_limit_city.npy',\n",
    "        initial_state_limit_city)"
   ]
  },
  {
   "cell_type": "markdown",
   "id": "f39f3286",
   "metadata": {},
   "source": [
    "## Run simulations for subsequent periods (time depends on timeline length)"
   ]
  },
  {
   "cell_type": "code",
   "execution_count": null,
   "id": "44f8ef72",
   "metadata": {},
   "outputs": [],
   "source": [
    "# We run the algorithm\n",
    "(simulation_households_center,\n",
    " simulation_households_housing_type,\n",
    " simulation_dwelling_size,\n",
    " simulation_rent,\n",
    " simulation_households,\n",
    " simulation_error,\n",
    " simulation_housing_supply,\n",
    " simulation_utility,\n",
    " simulation_deriv_housing,\n",
    " simulation_T) = eqsim.run_simulation(\n",
    "     t,\n",
    "     options,\n",
    "     param,\n",
    "     grid,\n",
    "     initial_state_utility,\n",
    "     initial_state_error,\n",
    "     initial_state_households,\n",
    "     initial_state_households_housing_types,\n",
    "     initial_state_housing_supply,\n",
    "     initial_state_household_centers,\n",
    "     initial_state_average_income,\n",
    "     initial_state_rent,\n",
    "     initial_state_dwelling_size,\n",
    "     fraction_capital_destroyed,\n",
    "     amenities,\n",
    "     housing_limit,\n",
    "     spline_estimate_RDP,\n",
    "     spline_land_constraints,\n",
    "     spline_land_backyard,\n",
    "     spline_land_RDP,\n",
    "     spline_land_informal,\n",
    "     income_class_by_housing_type,\n",
    "     path_precalc_transp,\n",
    "     spline_RDP,\n",
    "     spline_agricultural_rent,\n",
    "     spline_interest_rate,\n",
    "     spline_population_income_distribution,\n",
    "     spline_inflation,\n",
    "     spline_income_distribution,\n",
    "     spline_population,\n",
    "     spline_income,\n",
    "     spline_minimum_housing_supply,\n",
    "     spline_fuel,\n",
    "     income_2011\n",
    "     )"
   ]
  },
  {
   "cell_type": "code",
   "execution_count": null,
   "id": "ecfc62a9",
   "metadata": {},
   "outputs": [],
   "source": [
    "# We create the associated output directory\n",
    "try:\n",
    "    os.mkdir(path_outputs + name)\n",
    "except OSError as error:\n",
    "    print(error)"
   ]
  },
  {
   "cell_type": "code",
   "execution_count": null,
   "id": "db2ae063",
   "metadata": {},
   "outputs": [],
   "source": [
    "# We save the output\n",
    "np.save(path_outputs + name + '/simulation_households_center.npy',\n",
    "        simulation_households_center)\n",
    "np.save(path_outputs + name + '/simulation_households_housing_type.npy',\n",
    "        simulation_households_housing_type)\n",
    "np.save(path_outputs + name + '/simulation_dwelling_size.npy',\n",
    "        simulation_dwelling_size)\n",
    "np.save(path_outputs + name + '/simulation_rent.npy',\n",
    "        simulation_rent)\n",
    "np.save(path_outputs + name + '/simulation_households.npy',\n",
    "        simulation_households)\n",
    "np.save(path_outputs + name + '/simulation_error.npy',\n",
    "        simulation_error)\n",
    "np.save(path_outputs + name + '/simulation_housing_supply.npy',\n",
    "        simulation_housing_supply)\n",
    "np.save(path_outputs + name + '/simulation_utility.npy',\n",
    "        simulation_utility)\n",
    "np.save(path_outputs + name + '/simulation_deriv_housing.npy',\n",
    "        simulation_deriv_housing)\n",
    "np.save(path_outputs + name + '/simulation_T.npy',\n",
    "        simulation_T)"
   ]
  }
 ],
 "metadata": {
  "jupytext": {
   "cell_markers": "region,endregion",
   "cell_metadata_filter": "-all",
   "formats": "ipynb,py"
  },
  "kernelspec": {
   "display_name": "Python 3 (ipykernel)",
   "language": "python",
   "name": "python3"
  }
 },
 "nbformat": 4,
 "nbformat_minor": 5
}
