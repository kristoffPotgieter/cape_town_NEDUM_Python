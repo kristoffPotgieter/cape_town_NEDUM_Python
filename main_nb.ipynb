{
 "cells": [
  {
   "cell_type": "markdown",
   "id": "d8171916",
   "metadata": {},
   "source": [
    "# Notebook: run model"
   ]
  },
  {
   "cell_type": "markdown",
   "id": "eb194064",
   "metadata": {},
   "source": [
    "## Preamble\n",
    "\n",
    "### Import packages"
   ]
  },
  {
   "cell_type": "code",
   "execution_count": 1,
   "id": "aab0f13f",
   "metadata": {},
   "outputs": [],
   "source": [
    "# We import standard Python libraries\n",
    "import numpy as np\n",
    "import pandas as pd\n",
    "import os\n",
    "\n",
    "# We also import our own packages\n",
    "import inputs.data as inpdt\n",
    "import inputs.parameters_and_options as inpprm\n",
    "import equilibrium.compute_equilibrium as eqcmp\n",
    "import equilibrium.run_simulations as eqsim\n",
    "import equilibrium.functions_dynamic as eqdyn"
   ]
  },
  {
   "cell_type": "code",
   "execution_count": null,
   "id": "4472097c",
   "metadata": {},
   "outputs": [],
   "source": []
  },
  {
   "cell_type": "markdown",
   "id": "f9bb5e00",
   "metadata": {},
   "source": [
    "### Define file paths"
   ]
  },
  {
   "cell_type": "code",
   "execution_count": 19,
   "id": "4b266ca1",
   "metadata": {},
   "outputs": [],
   "source": [
    "path_code = '..'\n",
    "path_folder = path_code + '/2. Data/'\n",
    "path_precalc_inp = path_folder + '0. Precalculated inputs/'\n",
    "path_data = path_folder + 'data_Cape_Town/'\n",
    "path_precalc_transp = path_folder + 'precalculated_transport/'\n",
    "path_scenarios = path_folder + 'data_Cape_Town/Scenarios/'\n",
    "path_outputs = path_code + '/4. Outputs/'\n",
    "path_floods = path_folder + \"FATHOM/\""
   ]
  },
  {
   "cell_type": "markdown",
   "id": "2a52ebdb",
   "metadata": {},
   "source": [
    "### Set timeline for simulations"
   ]
  },
  {
   "cell_type": "code",
   "execution_count": 3,
   "id": "e4fa3961",
   "metadata": {
    "lines_to_next_cell": 2
   },
   "outputs": [],
   "source": [
    "t = np.arange(0, 30)"
   ]
  },
  {
   "cell_type": "markdown",
   "id": "10281f61",
   "metadata": {},
   "source": [
    "## Import parameters and options"
   ]
  },
  {
   "cell_type": "markdown",
   "id": "94148a0d",
   "metadata": {},
   "source": [
    "### We import default parameter and options"
   ]
  },
  {
   "cell_type": "code",
   "execution_count": 4,
   "id": "9667b1f0",
   "metadata": {},
   "outputs": [],
   "source": [
    "options = inpprm.import_options()\n",
    "param = inpprm.import_param(\n",
    "    path_precalc_inp, path_outputs, path_folder, options)"
   ]
  },
  {
   "cell_type": "markdown",
   "id": "7fa5400f",
   "metadata": {},
   "source": [
    "### We also set custom options for this simulation"
   ]
  },
  {
   "cell_type": "markdown",
   "id": "b278dbb7",
   "metadata": {},
   "source": [
    "#### We first set options regarding structural assumptions used in the model"
   ]
  },
  {
   "cell_type": "code",
   "execution_count": 5,
   "id": "e5a6ce93",
   "metadata": {},
   "outputs": [],
   "source": [
    "# Dummy for taking floods into account in agents' choices\n",
    "options[\"agents_anticipate_floods\"] = 1\n",
    "# Dummy for preventing new informal settlement development\n",
    "options[\"informal_land_constrained\"] = 0"
   ]
  },
  {
   "cell_type": "markdown",
   "id": "901a0dc1",
   "metadata": {},
   "source": [
    "#### Then we set options regarding flood data used"
   ]
  },
  {
   "cell_type": "code",
   "execution_count": 6,
   "id": "19aff1bd",
   "metadata": {},
   "outputs": [],
   "source": [
    "# Dummy for taking pluvial floods into account (on top of fluvial floods)\n",
    "options[\"pluvial\"] = 1\n",
    "# Dummy for reducing pluvial risk for (better protected) formal structures\n",
    "options[\"correct_pluvial\"] = 1\n",
    "# Dummy for taking coastal floods into account (on top of fluvial floods)\n",
    "options[\"coastal\"] = 1\n",
    "# Digital elevation model to be used with coastal floods (MERITDEM or NASADEM)\n",
    "# NB: MERITDEM is also the DEM used for fluvial and pluvial flood data\n",
    "options[\"dem\"] = \"MERITDEM\"\n",
    "# Dummy for taking defended (vs. undefended) fluvial flood maps\n",
    "# NB: FATHOM recommends to use undefended maps due to the high uncertainty\n",
    "# in infrastructure modelling\n",
    "options[\"defended\"] = 1\n",
    "# Dummy for taking sea-level rise into account in coastal flood data\n",
    "# NB: Projections are up to 2050, based upon IPCC AR5 assessment for the\n",
    "# RCP 8.5 scenario\n",
    "options[\"slr\"] = 1"
   ]
  },
  {
   "cell_type": "markdown",
   "id": "d91b39a6",
   "metadata": {},
   "source": [
    "#### We also set options for scenarios on time-moving exogenous variables"
   ]
  },
  {
   "cell_type": "code",
   "execution_count": 7,
   "id": "166586ad",
   "metadata": {},
   "outputs": [],
   "source": [
    "# NB: Must be set to 1/2/3 for low/medium/high growth scenario\n",
    "options[\"inc_ineq_scenario\"] = 2\n",
    "options[\"pop_growth_scenario\"] = 3\n",
    "options[\"fuel_price_scenario\"] = 2"
   ]
  },
  {
   "cell_type": "markdown",
   "id": "408da931",
   "metadata": {},
   "source": [
    "#### Finally, we set options regarding data processing"
   ]
  },
  {
   "cell_type": "markdown",
   "id": "b6cc2945",
   "metadata": {},
   "source": [
    "Default is set at zero to save computing time\n",
    "(data is simply loaded in the model)\n",
    "\n",
    "NB: this is only needed to create the data for the first time, or when the\n",
    "source is changed, so that pre-processed data is updated"
   ]
  },
  {
   "cell_type": "code",
   "execution_count": 8,
   "id": "4fec8b5b",
   "metadata": {
    "lines_to_next_cell": 2
   },
   "outputs": [],
   "source": [
    "# Dummy for converting small-area-level (SAL) data into grid-level data\n",
    "# (used for result validation)\n",
    "options[\"convert_sal_data\"] = 0\n",
    "# Dummy for computing expected income net of commuting costs on the basis\n",
    "# of calibrated wages\n",
    "options[\"compute_net_income\"] = 0"
   ]
  },
  {
   "cell_type": "markdown",
   "id": "0ab57012",
   "metadata": {},
   "source": [
    "## Give name to simulation to export the results"
   ]
  },
  {
   "cell_type": "code",
   "execution_count": 9,
   "id": "8dc97094",
   "metadata": {
    "lines_to_next_cell": 2
   },
   "outputs": [],
   "source": [
    "# NB: this changes according to custom parameters of interest\n",
    "name = ('floods' + str(options[\"agents_anticipate_floods\"])\n",
    "        + str(options[\"informal_land_constrained\"])\n",
    "        + '_F' + str(options[\"defended\"])\n",
    "        + '_P' + str(options[\"pluvial\"]) + str(options[\"correct_pluvial\"])\n",
    "        + '_C' + str(options[\"coastal\"]) + str(options[\"slr\"])\n",
    "        + '_scenario' + str(options[\"inc_ineq_scenario\"])\n",
    "        + str(options[\"pop_growth_scenario\"])\n",
    "        + str(options[\"fuel_price_scenario\"]))"
   ]
  },
  {
   "cell_type": "markdown",
   "id": "ebff1070",
   "metadata": {},
   "source": [
    "## Load data"
   ]
  },
  {
   "cell_type": "markdown",
   "id": "819fedee",
   "metadata": {},
   "source": [
    "### Basic geographic data"
   ]
  },
  {
   "cell_type": "code",
   "execution_count": 10,
   "id": "c797a415",
   "metadata": {
    "lines_to_next_cell": 2
   },
   "outputs": [],
   "source": [
    "grid, center = inpdt.import_grid(path_data)\n",
    "amenities = inpdt.import_amenities(path_precalc_inp, options)"
   ]
  },
  {
   "cell_type": "markdown",
   "id": "3666eb28",
   "metadata": {},
   "source": [
    "### Macro data"
   ]
  },
  {
   "cell_type": "code",
   "execution_count": 11,
   "id": "ad4339a4",
   "metadata": {
    "lines_to_next_cell": 2
   },
   "outputs": [],
   "source": [
    "(interest_rate, population, housing_type_data, total_RDP\n",
    " ) = inpdt.import_macro_data(param, path_scenarios, path_folder)"
   ]
  },
  {
   "cell_type": "markdown",
   "id": "6a133d44",
   "metadata": {},
   "source": [
    "### Households and income data"
   ]
  },
  {
   "cell_type": "code",
   "execution_count": 12,
   "id": "9fda682f",
   "metadata": {},
   "outputs": [],
   "source": [
    "income_class_by_housing_type = inpdt.import_hypothesis_housing_type()\n",
    "\n",
    "(mean_income, households_per_income_class, average_income, income_mult,\n",
    " income_2011, households_per_income_and_housing\n",
    " ) = inpdt.import_income_classes_data(param, path_data)\n",
    "\n",
    "# NB: we create this parameter to maintain money illusion in simulations\n",
    "# (see eqsim.run_simulation function)\n",
    "param[\"income_year_reference\"] = mean_income\n",
    "\n",
    "# Other data at SP (small place) level used for calibration and validation\n",
    "(data_rdp, housing_types_sp, data_sp, mitchells_plain_grid_2011,\n",
    " grid_formal_density_HFA, threshold_income_distribution, income_distribution,\n",
    " cape_town_limits) = inpdt.import_households_data(path_precalc_inp)\n",
    "\n",
    "# Import nb of households per pixel, by housing type (from SAL data)\n",
    "# NB: RDP housing is included in formal, and there are both formal and informal\n",
    "# backyards\n",
    "if options[\"convert_sal_data\"] == 1:\n",
    "    housing_types = inpdt.import_sal_data(grid, path_folder, path_data,\n",
    "                                          housing_type_data)\n",
    "housing_types = pd.read_excel(path_folder + 'housing_types_grid_sal.xlsx')\n",
    "housing_types[np.isnan(housing_types)] = 0"
   ]
  },
  {
   "cell_type": "markdown",
   "id": "1ba48ac9",
   "metadata": {},
   "source": [
    "### Land use projections"
   ]
  },
  {
   "cell_type": "code",
   "execution_count": 13,
   "id": "62e9dcba",
   "metadata": {},
   "outputs": [],
   "source": [
    "# We import basic projections\n",
    "(spline_RDP, spline_estimate_RDP, spline_land_RDP,\n",
    " spline_land_backyard, spline_land_informal, spline_land_constraints,\n",
    " number_properties_RDP) = (\n",
    "     inpdt.import_land_use(grid, options, param, data_rdp, housing_types,\n",
    "                           housing_type_data, path_data, path_folder)\n",
    "     )\n",
    "\n",
    "# We correct areas for each housing type at baseline year for the amount of\n",
    "# constructible land in each type\n",
    "coeff_land = inpdt.import_coeff_land(\n",
    "    spline_land_constraints, spline_land_backyard, spline_land_informal,\n",
    "    spline_land_RDP, param, 0)\n",
    "\n",
    "# We import housing heigth limits\n",
    "housing_limit = inpdt.import_housing_limit(grid, param)\n",
    "\n",
    "# We update parameter vector with construction parameters\n",
    "# (relies on loaded data) and compute other variables\n",
    "(param, minimum_housing_supply, agricultural_rent\n",
    " ) = inpprm.import_construction_parameters(\n",
    "    param, grid, housing_types_sp, data_sp[\"dwelling_size\"],\n",
    "    mitchells_plain_grid_2011, grid_formal_density_HFA, coeff_land,\n",
    "    interest_rate, options\n",
    "    )"
   ]
  },
  {
   "cell_type": "markdown",
   "id": "9a11ceb0",
   "metadata": {},
   "source": [
    "### Import flood data (takes some time when agents anticipate floods)"
   ]
  },
  {
   "cell_type": "code",
   "execution_count": 14,
   "id": "b525d4a4",
   "metadata": {},
   "outputs": [
    {
     "name": "stdout",
     "output_type": "stream",
     "text": [
      "FD_5yr\n",
      "FD_10yr\n",
      "FD_20yr\n",
      "FD_50yr\n",
      "FD_75yr\n",
      "FD_100yr\n",
      "FD_200yr\n",
      "FD_250yr\n",
      "FD_500yr\n",
      "FD_1000yr\n",
      "P_5yr\n",
      "P_10yr\n",
      "P_20yr\n",
      "P_50yr\n",
      "P_75yr\n",
      "P_100yr\n",
      "P_200yr\n",
      "P_250yr\n",
      "P_500yr\n",
      "P_1000yr\n",
      "C_MERITDEM_1_0000\n",
      "C_MERITDEM_1_0002\n",
      "C_MERITDEM_1_0005\n",
      "C_MERITDEM_1_0010\n",
      "C_MERITDEM_1_0025\n",
      "C_MERITDEM_1_0050\n",
      "C_MERITDEM_1_0100\n",
      "C_MERITDEM_1_0250\n",
      "Contents in private formal\n",
      "Contents in informal settlements\n",
      "Contents in (any) backyard\n",
      "Contents in formal subsidized\n",
      "Private formal structures (one floor)\n",
      "Private formal structures (two floors)\n",
      "Formal subsidized structures (one floor)\n",
      "Formal subsidized structures (two floors)\n",
      "Informal settlement structures\n",
      "Informal backyard structures\n",
      "Formal backyard structures (one floor)\n",
      "Formal backyard structures (two floors)\n"
     ]
    }
   ],
   "source": [
    "# If agents anticipate floods, we return output from damage functions\n",
    "if options[\"agents_anticipate_floods\"] == 1:\n",
    "    (fraction_capital_destroyed, structural_damages_small_houses,\n",
    "     structural_damages_medium_houses, structural_damages_large_houses,\n",
    "     content_damages, structural_damages_type1, structural_damages_type2,\n",
    "     structural_damages_type3a, structural_damages_type3b,\n",
    "     structural_damages_type4a, structural_damages_type4b\n",
    "     ) = inpdt.import_full_floods_data(options, param, path_folder,\n",
    "                                       housing_type_data)\n",
    "\n",
    "# Else, we set those outputs as zero\n",
    "# NB: 24014 is the number of grid pixels\n",
    "elif options[\"agents_anticipate_floods\"] == 0:\n",
    "    fraction_capital_destroyed = pd.DataFrame()\n",
    "    fraction_capital_destroyed[\"structure_formal_2\"] = np.zeros(24014)\n",
    "    fraction_capital_destroyed[\"structure_formal_1\"] = np.zeros(24014)\n",
    "    fraction_capital_destroyed[\"structure_subsidized_2\"] = np.zeros(24014)\n",
    "    fraction_capital_destroyed[\"structure_subsidized_1\"] = np.zeros(24014)\n",
    "    fraction_capital_destroyed[\"contents_formal\"] = np.zeros(24014)\n",
    "    fraction_capital_destroyed[\"contents_informal\"] = np.zeros(24014)\n",
    "    fraction_capital_destroyed[\"contents_subsidized\"] = np.zeros(24014)\n",
    "    fraction_capital_destroyed[\"contents_backyard\"] = np.zeros(24014)\n",
    "    fraction_capital_destroyed[\"structure_backyards\"] = np.zeros(24014)\n",
    "    fraction_capital_destroyed[\"structure_formal_backyards\"] = np.zeros(24014)\n",
    "    fraction_capital_destroyed[\"structure_informal_backyards\"\n",
    "                               ] = np.zeros(24014)\n",
    "    fraction_capital_destroyed[\"structure_informal_settlements\"\n",
    "                               ] = np.zeros(24014)"
   ]
  },
  {
   "cell_type": "markdown",
   "id": "7c177cab",
   "metadata": {},
   "source": [
    "### Import scenarios (for time-moving variables)"
   ]
  },
  {
   "cell_type": "code",
   "execution_count": 15,
   "id": "11d6ae57",
   "metadata": {},
   "outputs": [],
   "source": [
    "(spline_agricultural_rent, spline_interest_rate,\n",
    " spline_population_income_distribution, spline_inflation,\n",
    " spline_income_distribution, spline_population,\n",
    " spline_income, spline_minimum_housing_supply, spline_fuel\n",
    " ) = eqdyn.import_scenarios(income_2011, param, grid, path_scenarios,\n",
    "                            options)"
   ]
  },
  {
   "cell_type": "markdown",
   "id": "1415b29e",
   "metadata": {},
   "source": [
    "### Import income net of commuting costs (for all time periods)"
   ]
  },
  {
   "cell_type": "code",
   "execution_count": 16,
   "id": "003609cf",
   "metadata": {
    "lines_to_next_cell": 2
   },
   "outputs": [],
   "source": [
    "if options[\"compute_net_income\"] == 1:\n",
    "    for t_temp in t:\n",
    "        print(t_temp)\n",
    "        (incomeNetOfCommuting, modalShares, ODflows, averageIncome\n",
    "         ) = inpdt.import_transport_data(\n",
    "             grid, param, t_temp, households_per_income_class, average_income,\n",
    "             spline_inflation, spline_fuel,\n",
    "             spline_population_income_distribution, spline_income_distribution,\n",
    "             path_precalc_inp, path_precalc_transp, 'GRID', options)\n",
    "\n",
    "income_net_of_commuting_costs = np.load(\n",
    "    path_precalc_transp + 'GRID_incomeNetOfCommuting_0.npy')"
   ]
  },
  {
   "cell_type": "markdown",
   "id": "6883d640",
   "metadata": {},
   "source": [
    "## Compute initial state equilibrium"
   ]
  },
  {
   "cell_type": "code",
   "execution_count": 17,
   "id": "8369a3f0",
   "metadata": {},
   "outputs": [
    {
     "name": "stderr",
     "output_type": "stream",
     "text": [
      "stops when error_max_abs <0.02:  56%|█████▌    | 1110/2000 [00:20<00:16, 53.52it/s, error_max_abs=0.0181]\n"
     ]
    }
   ],
   "source": [
    "# We run the algorithm\n",
    "(initial_state_utility,\n",
    " initial_state_error,\n",
    " initial_state_simulated_jobs,\n",
    " initial_state_households_housing_types,\n",
    " initial_state_household_centers,\n",
    " initial_state_households,\n",
    " initial_state_dwelling_size,\n",
    " initial_state_housing_supply,\n",
    " initial_state_rent,\n",
    " initial_state_rent_matrix,\n",
    " initial_state_capital_land,\n",
    " initial_state_average_income,\n",
    " initial_state_limit_city) = eqcmp.compute_equilibrium(\n",
    "     fraction_capital_destroyed,\n",
    "     amenities,\n",
    "     param,\n",
    "     housing_limit,\n",
    "     population,\n",
    "     households_per_income_class,\n",
    "     total_RDP,\n",
    "     coeff_land,\n",
    "     income_net_of_commuting_costs,\n",
    "     grid,\n",
    "     options,\n",
    "     agricultural_rent,\n",
    "     interest_rate,\n",
    "     number_properties_RDP,\n",
    "     average_income,\n",
    "     mean_income,\n",
    "     income_class_by_housing_type,\n",
    "     minimum_housing_supply,\n",
    "     param[\"coeff_A\"],\n",
    "     income_2011)"
   ]
  },
  {
   "cell_type": "markdown",
   "id": "b396debe",
   "metadata": {},
   "source": [
    "Reminder: income groups are ranked from poorer to richer, and housing types\n",
    "follow the following order: formal-backyard-informal-RDP"
   ]
  },
  {
   "cell_type": "markdown",
   "id": "8f093748",
   "metadata": {},
   "source": [
    "Note on outputs (with dimensions in same order as axes):\n",
    "\n",
    "initial_state_utility = utility for each income group (no RDP)\n",
    "  after optimization\n",
    "\n",
    "initial_state_error = value of error term for each group after optimization\n",
    "\n",
    "initial_state_simulated_jobs = total number of households per housing type\n",
    "  (no RDP) and income group\n",
    "\n",
    "initial_state_households_housing_types = number of households\n",
    "  per housing type (with RDP) per pixel\n",
    "\n",
    "initial_state_household_centers = number of households per income group\n",
    "  per pixel\n",
    "\n",
    "initial_state_households = number of households in each housing type\n",
    "  and income group per pixel\n",
    "\n",
    "initial_state_dwelling_size = dwelling size (in m²) for each housing type\n",
    "  per pixel\n",
    "\n",
    "initial_state_housing_supply = housing surface built (in m²) per unit of\n",
    "  available land (in km²) for each housing type in each pixel\n",
    "\n",
    "initial_state_rent = average rent (in rands/m²) for each housing type\n",
    "  in each pixel\n",
    "\n",
    "initial_state_rent_matrix = average willingness to pay (in rands)\n",
    "  for each housing type (no RDP) and each income group in each pixel\n",
    "\n",
    "initial_state_capital_land = value of the (housing construction sector)\n",
    "  capital stock (in available-land unit equivalent) per unit of available\n",
    "  land (in km²) in each housing type (no RDP) and each selected pixel\n",
    "\n",
    "initial_state_average_income = average income per income group\n",
    "  (not an output of the model)\n",
    "\n",
    "initial_state_limit_city = indicator dummy for having strictly more\n",
    "  than one household per housing type and income group in each pixel"
   ]
  },
  {
   "cell_type": "code",
   "execution_count": 18,
   "id": "d3cbca8a",
   "metadata": {},
   "outputs": [
    {
     "name": "stdout",
     "output_type": "stream",
     "text": [
      "[Errno 2] No such file or directory: '../4. Sorties/floods10_F1_P11_C11_scenario232'\n"
     ]
    }
   ],
   "source": [
    "# We create the associated output directory\n",
    "try:\n",
    "    os.mkdir(path_outputs + name)\n",
    "except OSError as error:\n",
    "    print(error)"
   ]
  },
  {
   "cell_type": "code",
   "execution_count": 19,
   "id": "78d5f86d",
   "metadata": {
    "lines_to_next_cell": 2
   },
   "outputs": [
    {
     "ename": "FileNotFoundError",
     "evalue": "[Errno 2] No such file or directory: '../4. Sorties/floods10_F1_P11_C11_scenario232/initial_state_utility.npy'",
     "output_type": "error",
     "traceback": [
      "\u001b[0;31m---------------------------------------------------------------------------\u001b[0m",
      "\u001b[0;31mFileNotFoundError\u001b[0m                         Traceback (most recent call last)",
      "\u001b[0;32m/var/folders/k7/7pfy_t7d11bckpngtmww9l5r0000gn/T/ipykernel_4281/1088557083.py\u001b[0m in \u001b[0;36m<module>\u001b[0;34m\u001b[0m\n\u001b[1;32m      1\u001b[0m \u001b[0;31m# We save the output\u001b[0m\u001b[0;34m\u001b[0m\u001b[0;34m\u001b[0m\u001b[0;34m\u001b[0m\u001b[0m\n\u001b[0;32m----> 2\u001b[0;31m np.save(path_outputs + name + '/initial_state_utility.npy',\n\u001b[0m\u001b[1;32m      3\u001b[0m         initial_state_utility)\n\u001b[1;32m      4\u001b[0m np.save(path_outputs + name + '/initial_state_error.npy',\n\u001b[1;32m      5\u001b[0m         initial_state_error)\n",
      "\u001b[0;32m~/.conda/envs/anaconda/lib/python3.8/site-packages/numpy/core/overrides.py\u001b[0m in \u001b[0;36msave\u001b[0;34m(*args, **kwargs)\u001b[0m\n",
      "\u001b[0;32m~/.conda/envs/anaconda/lib/python3.8/site-packages/numpy/lib/npyio.py\u001b[0m in \u001b[0;36msave\u001b[0;34m(file, arr, allow_pickle, fix_imports)\u001b[0m\n\u001b[1;32m    496\u001b[0m         \u001b[0;32mif\u001b[0m \u001b[0;32mnot\u001b[0m \u001b[0mfile\u001b[0m\u001b[0;34m.\u001b[0m\u001b[0mendswith\u001b[0m\u001b[0;34m(\u001b[0m\u001b[0;34m'.npy'\u001b[0m\u001b[0;34m)\u001b[0m\u001b[0;34m:\u001b[0m\u001b[0;34m\u001b[0m\u001b[0;34m\u001b[0m\u001b[0m\n\u001b[1;32m    497\u001b[0m             \u001b[0mfile\u001b[0m \u001b[0;34m=\u001b[0m \u001b[0mfile\u001b[0m \u001b[0;34m+\u001b[0m \u001b[0;34m'.npy'\u001b[0m\u001b[0;34m\u001b[0m\u001b[0;34m\u001b[0m\u001b[0m\n\u001b[0;32m--> 498\u001b[0;31m         \u001b[0mfile_ctx\u001b[0m \u001b[0;34m=\u001b[0m \u001b[0mopen\u001b[0m\u001b[0;34m(\u001b[0m\u001b[0mfile\u001b[0m\u001b[0;34m,\u001b[0m \u001b[0;34m\"wb\"\u001b[0m\u001b[0;34m)\u001b[0m\u001b[0;34m\u001b[0m\u001b[0;34m\u001b[0m\u001b[0m\n\u001b[0m\u001b[1;32m    499\u001b[0m \u001b[0;34m\u001b[0m\u001b[0m\n\u001b[1;32m    500\u001b[0m     \u001b[0;32mwith\u001b[0m \u001b[0mfile_ctx\u001b[0m \u001b[0;32mas\u001b[0m \u001b[0mfid\u001b[0m\u001b[0;34m:\u001b[0m\u001b[0;34m\u001b[0m\u001b[0;34m\u001b[0m\u001b[0m\n",
      "\u001b[0;31mFileNotFoundError\u001b[0m: [Errno 2] No such file or directory: '../4. Sorties/floods10_F1_P11_C11_scenario232/initial_state_utility.npy'"
     ]
    }
   ],
   "source": [
    "# We save the output\n",
    "np.save(path_outputs + name + '/initial_state_utility.npy',\n",
    "        initial_state_utility)\n",
    "np.save(path_outputs + name + '/initial_state_error.npy',\n",
    "        initial_state_error)\n",
    "np.save(path_outputs + name + '/initial_state_simulated_jobs.npy',\n",
    "        initial_state_simulated_jobs)\n",
    "np.save(path_outputs + name + '/initial_state_households_housing_types.npy',\n",
    "        initial_state_households_housing_types)\n",
    "np.save(path_outputs + name + '/initial_state_household_centers.npy',\n",
    "        initial_state_household_centers)\n",
    "np.save(path_outputs + name + '/initial_state_households.npy',\n",
    "        initial_state_households)\n",
    "np.save(path_outputs + name + '/initial_state_dwelling_size.npy',\n",
    "        initial_state_dwelling_size)\n",
    "np.save(path_outputs + name + '/initial_state_housing_supply.npy',\n",
    "        initial_state_housing_supply)\n",
    "np.save(path_outputs + name + '/initial_state_rent.npy',\n",
    "        initial_state_rent)\n",
    "np.save(path_outputs + name + '/initial_state_rent_matrix.npy',\n",
    "        initial_state_rent_matrix)\n",
    "np.save(path_outputs + name + '/initial_state_capital_land.npy',\n",
    "        initial_state_capital_land)\n",
    "np.save(path_outputs + name + '/initial_state_average_income.npy',\n",
    "        initial_state_average_income)\n",
    "np.save(path_outputs + name + '/initial_state_limit_city.npy',\n",
    "        initial_state_limit_city)"
   ]
  },
  {
   "cell_type": "markdown",
   "id": "f39f3286",
   "metadata": {},
   "source": [
    "## Run simulations for subsequent periods (time depends on timeline length)"
   ]
  },
  {
   "cell_type": "code",
   "execution_count": 20,
   "id": "44f8ef72",
   "metadata": {},
   "outputs": [
    {
     "name": "stdout",
     "output_type": "stream",
     "text": [
      "0\n",
      "1\n",
      "Simulation without constraint\n"
     ]
    },
    {
     "name": "stderr",
     "output_type": "stream",
     "text": [
      "stops when error_max_abs <0.02:  61%|██████    | 1223/2000 [00:24<00:15, 49.70it/s, error_max_abs=0.019] \n"
     ]
    },
    {
     "name": "stdout",
     "output_type": "stream",
     "text": [
      "Simulation with constraint\n"
     ]
    },
    {
     "name": "stderr",
     "output_type": "stream",
     "text": [
      "stops when error_max_abs <0.02:  58%|█████▊    | 1154/2000 [00:19<00:14, 60.14it/s, error_max_abs=0.0186]\n"
     ]
    },
    {
     "name": "stdout",
     "output_type": "stream",
     "text": [
      "2\n",
      "Simulation without constraint\n"
     ]
    },
    {
     "name": "stderr",
     "output_type": "stream",
     "text": [
      "stops when error_max_abs <0.02:  64%|██████▍   | 1281/2000 [00:25<00:14, 50.54it/s, error_max_abs=0.019] \n"
     ]
    },
    {
     "name": "stdout",
     "output_type": "stream",
     "text": [
      "Simulation with constraint\n"
     ]
    },
    {
     "name": "stderr",
     "output_type": "stream",
     "text": [
      "stops when error_max_abs <0.02:  59%|█████▉    | 1179/2000 [00:20<00:14, 58.14it/s, error_max_abs=0.0185]\n"
     ]
    },
    {
     "name": "stdout",
     "output_type": "stream",
     "text": [
      "3\n",
      "Simulation without constraint\n"
     ]
    },
    {
     "name": "stderr",
     "output_type": "stream",
     "text": [
      "stops when error_max_abs <0.02:  63%|██████▎   | 1265/2000 [00:28<00:16, 44.63it/s, error_max_abs=0.0188]\n"
     ]
    },
    {
     "name": "stdout",
     "output_type": "stream",
     "text": [
      "Simulation with constraint\n"
     ]
    },
    {
     "name": "stderr",
     "output_type": "stream",
     "text": [
      "stops when error_max_abs <0.02:  57%|█████▋    | 1149/2000 [00:18<00:13, 60.88it/s, error_max_abs=0.0198]\n"
     ]
    },
    {
     "name": "stdout",
     "output_type": "stream",
     "text": [
      "4\n",
      "Simulation without constraint\n"
     ]
    },
    {
     "name": "stderr",
     "output_type": "stream",
     "text": [
      "stops when error_max_abs <0.02:  62%|██████▏   | 1241/2000 [01:11<00:43, 17.39it/s, error_max_abs=0.0194]\n"
     ]
    },
    {
     "name": "stdout",
     "output_type": "stream",
     "text": [
      "Simulation with constraint\n"
     ]
    },
    {
     "name": "stderr",
     "output_type": "stream",
     "text": [
      "stops when error_max_abs <0.02:  60%|█████▉    | 1196/2000 [01:05<00:43, 18.30it/s, error_max_abs=0.0187]\n"
     ]
    },
    {
     "name": "stdout",
     "output_type": "stream",
     "text": [
      "5\n",
      "Simulation without constraint\n"
     ]
    },
    {
     "name": "stderr",
     "output_type": "stream",
     "text": [
      "stops when error_max_abs <0.02:  65%|██████▍   | 1291/2000 [01:17<00:42, 16.69it/s, error_max_abs=0.0191]\n"
     ]
    },
    {
     "name": "stdout",
     "output_type": "stream",
     "text": [
      "Simulation with constraint\n"
     ]
    },
    {
     "name": "stderr",
     "output_type": "stream",
     "text": [
      "stops when error_max_abs <0.02:  64%|██████▍   | 1281/2000 [01:05<00:36, 19.50it/s, error_max_abs=0.0198]\n"
     ]
    },
    {
     "name": "stdout",
     "output_type": "stream",
     "text": [
      "6\n",
      "Simulation without constraint\n"
     ]
    },
    {
     "name": "stderr",
     "output_type": "stream",
     "text": [
      "stops when error_max_abs <0.02:  68%|██████▊   | 1366/2000 [01:11<00:33, 18.98it/s, error_max_abs=0.0197]\n"
     ]
    },
    {
     "name": "stdout",
     "output_type": "stream",
     "text": [
      "Simulation with constraint\n"
     ]
    },
    {
     "name": "stderr",
     "output_type": "stream",
     "text": [
      "stops when error_max_abs <0.02:  66%|██████▌   | 1312/2000 [01:06<00:35, 19.60it/s, error_max_abs=0.0194]\n"
     ]
    },
    {
     "name": "stdout",
     "output_type": "stream",
     "text": [
      "7\n",
      "Simulation without constraint\n"
     ]
    },
    {
     "name": "stderr",
     "output_type": "stream",
     "text": [
      "stops when error_max_abs <0.02:  66%|██████▌   | 1324/2000 [01:13<00:37, 18.06it/s, error_max_abs=0.0197]\n"
     ]
    },
    {
     "name": "stdout",
     "output_type": "stream",
     "text": [
      "Simulation with constraint\n"
     ]
    },
    {
     "name": "stderr",
     "output_type": "stream",
     "text": [
      "stops when error_max_abs <0.02:  69%|██████▉   | 1388/2000 [01:09<00:30, 19.91it/s, error_max_abs=0.0154]\n"
     ]
    },
    {
     "name": "stdout",
     "output_type": "stream",
     "text": [
      "8\n",
      "Simulation without constraint\n"
     ]
    },
    {
     "name": "stderr",
     "output_type": "stream",
     "text": [
      "stops when error_max_abs <0.02:  63%|██████▎   | 1253/2000 [01:06<00:39, 18.77it/s, error_max_abs=0.0183]\n"
     ]
    },
    {
     "name": "stdout",
     "output_type": "stream",
     "text": [
      "Simulation with constraint\n"
     ]
    },
    {
     "name": "stderr",
     "output_type": "stream",
     "text": [
      "stops when error_max_abs <0.02:  71%|███████   | 1413/2000 [01:11<00:29, 19.84it/s, error_max_abs=0.0195]\n"
     ]
    },
    {
     "name": "stdout",
     "output_type": "stream",
     "text": [
      "9\n",
      "Simulation without constraint\n"
     ]
    },
    {
     "name": "stderr",
     "output_type": "stream",
     "text": [
      "stops when error_max_abs <0.02:  21%|██▏       | 426/2000 [00:22<01:23, 18.77it/s, error_max_abs=0.0126]\n"
     ]
    },
    {
     "name": "stdout",
     "output_type": "stream",
     "text": [
      "Simulation with constraint\n"
     ]
    },
    {
     "name": "stderr",
     "output_type": "stream",
     "text": [
      "stops when error_max_abs <0.02:  49%|████▉     | 988/2000 [00:48<00:50, 20.23it/s, error_max_abs=0.0185]\n"
     ]
    },
    {
     "name": "stdout",
     "output_type": "stream",
     "text": [
      "10\n",
      "Simulation without constraint\n"
     ]
    },
    {
     "name": "stderr",
     "output_type": "stream",
     "text": [
      "stops when error_max_abs <0.02:  27%|██▋       | 543/2000 [00:28<01:17, 18.76it/s, error_max_abs=0.0178]\n"
     ]
    },
    {
     "name": "stdout",
     "output_type": "stream",
     "text": [
      "Simulation with constraint\n"
     ]
    },
    {
     "name": "stderr",
     "output_type": "stream",
     "text": [
      "stops when error_max_abs <0.02:  50%|████▉     | 992/2000 [00:49<00:50, 19.88it/s, error_max_abs=0.0193]\n"
     ]
    },
    {
     "name": "stdout",
     "output_type": "stream",
     "text": [
      "11\n",
      "Simulation without constraint\n"
     ]
    },
    {
     "name": "stderr",
     "output_type": "stream",
     "text": [
      "stops when error_max_abs <0.02:  31%|███▏      | 629/2000 [00:33<01:13, 18.54it/s, error_max_abs=0.0194]\n"
     ]
    },
    {
     "name": "stdout",
     "output_type": "stream",
     "text": [
      "Simulation with constraint\n"
     ]
    },
    {
     "name": "stderr",
     "output_type": "stream",
     "text": [
      "stops when error_max_abs <0.02:  50%|████▉     | 998/2000 [00:49<00:49, 20.09it/s, error_max_abs=0.0169]\n"
     ]
    },
    {
     "name": "stdout",
     "output_type": "stream",
     "text": [
      "12\n",
      "Simulation without constraint\n"
     ]
    },
    {
     "name": "stderr",
     "output_type": "stream",
     "text": [
      "stops when error_max_abs <0.02:  61%|██████    | 1218/2000 [01:05<00:42, 18.58it/s, error_max_abs=0.0199]\n"
     ]
    },
    {
     "name": "stdout",
     "output_type": "stream",
     "text": [
      "Simulation with constraint\n"
     ]
    },
    {
     "name": "stderr",
     "output_type": "stream",
     "text": [
      "stops when error_max_abs <0.02:  65%|██████▌   | 1303/2000 [01:09<00:37, 18.73it/s, error_max_abs=0.0184]\n"
     ]
    },
    {
     "name": "stdout",
     "output_type": "stream",
     "text": [
      "13\n",
      "Simulation without constraint\n"
     ]
    },
    {
     "name": "stderr",
     "output_type": "stream",
     "text": [
      "stops when error_max_abs <0.02:  40%|███▉      | 799/2000 [00:46<01:10, 17.07it/s, error_max_abs=0.019] \n"
     ]
    },
    {
     "name": "stdout",
     "output_type": "stream",
     "text": [
      "Simulation with constraint\n"
     ]
    },
    {
     "name": "stderr",
     "output_type": "stream",
     "text": [
      "stops when error_max_abs <0.02:  83%|████████▎ | 1662/2000 [01:23<00:17, 19.87it/s, error_max_abs=0.0198]\n"
     ]
    },
    {
     "name": "stdout",
     "output_type": "stream",
     "text": [
      "14\n",
      "Simulation without constraint\n"
     ]
    },
    {
     "name": "stderr",
     "output_type": "stream",
     "text": [
      "stops when error_max_abs <0.02:  38%|███▊      | 757/2000 [00:40<01:05, 18.90it/s, error_max_abs=0.0199]\n"
     ]
    },
    {
     "name": "stdout",
     "output_type": "stream",
     "text": [
      "Simulation with constraint\n"
     ]
    },
    {
     "name": "stderr",
     "output_type": "stream",
     "text": [
      "stops when error_max_abs <0.02:  88%|████████▊ | 1760/2000 [01:37<00:13, 18.10it/s, error_max_abs=0.0193]\n"
     ]
    },
    {
     "name": "stdout",
     "output_type": "stream",
     "text": [
      "15\n",
      "Simulation without constraint\n"
     ]
    },
    {
     "name": "stderr",
     "output_type": "stream",
     "text": [
      "stops when error_max_abs <0.02:  68%|██████▊   | 1366/2000 [01:15<00:35, 18.08it/s, error_max_abs=0.0186]\n"
     ]
    },
    {
     "name": "stdout",
     "output_type": "stream",
     "text": [
      "Simulation with constraint\n"
     ]
    },
    {
     "name": "stderr",
     "output_type": "stream",
     "text": [
      "stops when error_max_abs <0.02:  98%|█████████▊| 1956/2000 [01:47<00:02, 18.18it/s, error_max_abs=0.0184]\n"
     ]
    },
    {
     "name": "stdout",
     "output_type": "stream",
     "text": [
      "16\n",
      "Simulation without constraint\n"
     ]
    },
    {
     "name": "stderr",
     "output_type": "stream",
     "text": [
      "stops when error_max_abs <0.02:  76%|███████▌  | 1517/2000 [01:26<00:27, 17.48it/s, error_max_abs=0.0198]\n"
     ]
    },
    {
     "name": "stdout",
     "output_type": "stream",
     "text": [
      "Simulation with constraint\n"
     ]
    },
    {
     "name": "stderr",
     "output_type": "stream",
     "text": [
      "stops when error_max_abs <0.02:  99%|█████████▉| 1985/2000 [01:49<00:00, 18.10it/s, error_max_abs=0.0195]\n"
     ]
    },
    {
     "name": "stdout",
     "output_type": "stream",
     "text": [
      "17\n",
      "Simulation without constraint\n"
     ]
    },
    {
     "name": "stderr",
     "output_type": "stream",
     "text": [
      "stops when error_max_abs <0.02:  63%|██████▎   | 1262/2000 [01:08<00:40, 18.35it/s, error_max_abs=0.0135]\n"
     ]
    },
    {
     "name": "stdout",
     "output_type": "stream",
     "text": [
      "Simulation with constraint\n"
     ]
    },
    {
     "name": "stderr",
     "output_type": "stream",
     "text": [
      "stops when error_max_abs <0.02:  77%|███████▋  | 1536/2000 [01:22<00:24, 18.69it/s, error_max_abs=0.018] \n"
     ]
    },
    {
     "name": "stdout",
     "output_type": "stream",
     "text": [
      "18\n",
      "Simulation without constraint\n"
     ]
    },
    {
     "name": "stderr",
     "output_type": "stream",
     "text": [
      "stops when error_max_abs <0.02:  67%|██████▋   | 1334/2000 [01:15<00:37, 17.68it/s, error_max_abs=0.0183]\n"
     ]
    },
    {
     "name": "stdout",
     "output_type": "stream",
     "text": [
      "Simulation with constraint\n"
     ]
    },
    {
     "name": "stderr",
     "output_type": "stream",
     "text": [
      "stops when error_max_abs <0.02:   7%|▋         | 145/2000 [00:07<01:36, 19.30it/s, error_max_abs=0.0182]\n"
     ]
    },
    {
     "name": "stdout",
     "output_type": "stream",
     "text": [
      "19\n",
      "Simulation without constraint\n"
     ]
    },
    {
     "name": "stderr",
     "output_type": "stream",
     "text": [
      "stops when error_max_abs <0.02:  59%|█████▊    | 1171/2000 [01:09<00:49, 16.84it/s, error_max_abs=0.0166]\n"
     ]
    },
    {
     "name": "stdout",
     "output_type": "stream",
     "text": [
      "Simulation with constraint\n"
     ]
    },
    {
     "name": "stderr",
     "output_type": "stream",
     "text": [
      "stops when error_max_abs <0.02:   8%|▊         | 158/2000 [00:08<01:34, 19.44it/s, error_max_abs=0.0171]\n"
     ]
    },
    {
     "name": "stdout",
     "output_type": "stream",
     "text": [
      "20\n",
      "Simulation without constraint\n"
     ]
    },
    {
     "name": "stderr",
     "output_type": "stream",
     "text": [
      "stops when error_max_abs <0.02:  62%|██████▎   | 1250/2000 [01:09<00:41, 18.03it/s, error_max_abs=0.0196]\n"
     ]
    },
    {
     "name": "stdout",
     "output_type": "stream",
     "text": [
      "Simulation with constraint\n"
     ]
    },
    {
     "name": "stderr",
     "output_type": "stream",
     "text": [
      "stops when error_max_abs <0.02:   9%|▊         | 173/2000 [00:09<01:35, 19.20it/s, error_max_abs=0.0167]\n"
     ]
    },
    {
     "name": "stdout",
     "output_type": "stream",
     "text": [
      "21\n",
      "Simulation without constraint\n"
     ]
    },
    {
     "name": "stderr",
     "output_type": "stream",
     "text": [
      "stops when error_max_abs <0.02:  66%|██████▌   | 1318/2000 [01:12<00:37, 18.18it/s, error_max_abs=0.0131]\n"
     ]
    },
    {
     "name": "stdout",
     "output_type": "stream",
     "text": [
      "Simulation with constraint\n"
     ]
    },
    {
     "name": "stderr",
     "output_type": "stream",
     "text": [
      "stops when error_max_abs <0.02:   9%|▉         | 188/2000 [00:10<01:37, 18.61it/s, error_max_abs=0.0168]\n"
     ]
    },
    {
     "name": "stdout",
     "output_type": "stream",
     "text": [
      "22\n",
      "Simulation without constraint\n"
     ]
    },
    {
     "name": "stderr",
     "output_type": "stream",
     "text": [
      "stops when error_max_abs <0.02:  64%|██████▍   | 1283/2000 [01:13<00:41, 17.48it/s, error_max_abs=0.0165]\n"
     ]
    },
    {
     "name": "stdout",
     "output_type": "stream",
     "text": [
      "Simulation with constraint\n"
     ]
    },
    {
     "name": "stderr",
     "output_type": "stream",
     "text": [
      "stops when error_max_abs <0.02:  10%|█         | 205/2000 [00:10<01:33, 19.21it/s, error_max_abs=0.02]  \n"
     ]
    },
    {
     "name": "stdout",
     "output_type": "stream",
     "text": [
      "23\n",
      "Simulation without constraint\n"
     ]
    },
    {
     "name": "stderr",
     "output_type": "stream",
     "text": [
      "stops when error_max_abs <0.02:  73%|███████▎  | 1460/2000 [01:20<00:29, 18.10it/s, error_max_abs=0.013] \n"
     ]
    },
    {
     "name": "stdout",
     "output_type": "stream",
     "text": [
      "Simulation with constraint\n"
     ]
    },
    {
     "name": "stderr",
     "output_type": "stream",
     "text": [
      "stops when error_max_abs <0.02:  11%|█▏        | 225/2000 [00:11<01:32, 19.23it/s, error_max_abs=0.0181]\n"
     ]
    },
    {
     "name": "stdout",
     "output_type": "stream",
     "text": [
      "24\n",
      "Simulation without constraint\n"
     ]
    },
    {
     "name": "stderr",
     "output_type": "stream",
     "text": [
      "stops when error_max_abs <0.02:  73%|███████▎  | 1452/2000 [01:23<00:31, 17.43it/s, error_max_abs=0.0161]\n"
     ]
    },
    {
     "name": "stdout",
     "output_type": "stream",
     "text": [
      "Simulation with constraint\n"
     ]
    },
    {
     "name": "stderr",
     "output_type": "stream",
     "text": [
      "stops when error_max_abs <0.02:  14%|█▎        | 270/2000 [00:13<01:29, 19.39it/s, error_max_abs=0.0182]\n"
     ]
    },
    {
     "name": "stdout",
     "output_type": "stream",
     "text": [
      "25\n",
      "Simulation without constraint\n"
     ]
    },
    {
     "name": "stderr",
     "output_type": "stream",
     "text": [
      "stops when error_max_abs <0.02:  50%|█████     | 1005/2000 [00:57<00:56, 17.48it/s, error_max_abs=0.0176]\n"
     ]
    },
    {
     "name": "stdout",
     "output_type": "stream",
     "text": [
      "Simulation with constraint\n"
     ]
    },
    {
     "name": "stderr",
     "output_type": "stream",
     "text": [
      "stops when error_max_abs <0.02: 100%|█████████▉| 1999/2000 [01:42<00:00, 19.49it/s, error_max_abs=0.0608]\n"
     ]
    },
    {
     "name": "stdout",
     "output_type": "stream",
     "text": [
      "26\n",
      "Simulation without constraint\n"
     ]
    },
    {
     "name": "stderr",
     "output_type": "stream",
     "text": [
      "stops when error_max_abs <0.02:  45%|████▍     | 892/2000 [00:50<01:02, 17.78it/s, error_max_abs=0.0197]\n"
     ]
    },
    {
     "name": "stdout",
     "output_type": "stream",
     "text": [
      "Simulation with constraint\n"
     ]
    },
    {
     "name": "stderr",
     "output_type": "stream",
     "text": [
      "stops when error_max_abs <0.02: 100%|█████████▉| 1999/2000 [01:40<00:00, 19.90it/s, error_max_abs=0.0235]\n"
     ]
    },
    {
     "name": "stdout",
     "output_type": "stream",
     "text": [
      "27\n",
      "Simulation without constraint\n"
     ]
    },
    {
     "name": "stderr",
     "output_type": "stream",
     "text": [
      "stops when error_max_abs <0.02:  47%|████▋     | 943/2000 [00:49<00:55, 19.07it/s, error_max_abs=0.0193]\n"
     ]
    },
    {
     "name": "stdout",
     "output_type": "stream",
     "text": [
      "Simulation with constraint\n"
     ]
    },
    {
     "name": "stderr",
     "output_type": "stream",
     "text": [
      "stops when error_max_abs <0.02:   4%|▍         | 86/2000 [00:04<01:37, 19.58it/s, error_max_abs=0.0181]\n"
     ]
    },
    {
     "name": "stdout",
     "output_type": "stream",
     "text": [
      "28\n",
      "Simulation without constraint\n"
     ]
    },
    {
     "name": "stderr",
     "output_type": "stream",
     "text": [
      "stops when error_max_abs <0.02:  47%|████▋     | 941/2000 [00:55<01:02, 17.07it/s, error_max_abs=0.0188]\n"
     ]
    },
    {
     "name": "stdout",
     "output_type": "stream",
     "text": [
      "Simulation with constraint\n"
     ]
    },
    {
     "name": "stderr",
     "output_type": "stream",
     "text": [
      "stops when error_max_abs <0.02: 100%|█████████▉| 1999/2000 [01:53<00:00, 17.64it/s, error_max_abs=0.0461]\n"
     ]
    },
    {
     "name": "stdout",
     "output_type": "stream",
     "text": [
      "29\n",
      "Simulation without constraint\n"
     ]
    },
    {
     "name": "stderr",
     "output_type": "stream",
     "text": [
      "stops when error_max_abs <0.02:  48%|████▊     | 964/2000 [00:56<01:00, 17.07it/s, error_max_abs=0.0198]\n"
     ]
    },
    {
     "name": "stdout",
     "output_type": "stream",
     "text": [
      "Simulation with constraint\n"
     ]
    },
    {
     "name": "stderr",
     "output_type": "stream",
     "text": [
      "stops when error_max_abs <0.02: 100%|█████████▉| 1999/2000 [01:41<00:00, 19.61it/s, error_max_abs=0.079] \n"
     ]
    }
   ],
   "source": [
    "# We run the algorithm\n",
    "(simulation_households_center,\n",
    " simulation_households_housing_type,\n",
    " simulation_dwelling_size,\n",
    " simulation_rent,\n",
    " simulation_households,\n",
    " simulation_error,\n",
    " simulation_housing_supply,\n",
    " simulation_utility,\n",
    " simulation_deriv_housing,\n",
    " simulation_T) = eqsim.run_simulation(\n",
    "     t,\n",
    "     options,\n",
    "     param,\n",
    "     grid,\n",
    "     initial_state_utility,\n",
    "     initial_state_error,\n",
    "     initial_state_households,\n",
    "     initial_state_households_housing_types,\n",
    "     initial_state_housing_supply,\n",
    "     initial_state_household_centers,\n",
    "     initial_state_average_income,\n",
    "     initial_state_rent,\n",
    "     initial_state_dwelling_size,\n",
    "     fraction_capital_destroyed,\n",
    "     amenities,\n",
    "     housing_limit,\n",
    "     spline_estimate_RDP,\n",
    "     spline_land_constraints,\n",
    "     spline_land_backyard,\n",
    "     spline_land_RDP,\n",
    "     spline_land_informal,\n",
    "     income_class_by_housing_type,\n",
    "     path_precalc_transp,\n",
    "     spline_RDP,\n",
    "     spline_agricultural_rent,\n",
    "     spline_interest_rate,\n",
    "     spline_population_income_distribution,\n",
    "     spline_inflation,\n",
    "     spline_income_distribution,\n",
    "     spline_population,\n",
    "     spline_income,\n",
    "     spline_minimum_housing_supply,\n",
    "     spline_fuel,\n",
    "     income_2011\n",
    "     )"
   ]
  },
  {
   "cell_type": "code",
   "execution_count": 18,
   "id": "ecfc62a9",
   "metadata": {},
   "outputs": [
    {
     "name": "stdout",
     "output_type": "stream",
     "text": [
      "[Errno 2] No such file or directory: '../4. Sorties/floods10_F1_P11_C11_scenario232'\n"
     ]
    }
   ],
   "source": [
    "# We create the associated output directory\n",
    "try:\n",
    "    os.mkdir(path_outputs + name)\n",
    "except OSError as error:\n",
    "    print(error)"
   ]
  },
  {
   "cell_type": "code",
   "execution_count": 20,
   "id": "db2ae063",
   "metadata": {},
   "outputs": [
    {
     "ename": "NameError",
     "evalue": "name 'simulation_households_center' is not defined",
     "output_type": "error",
     "traceback": [
      "\u001b[0;31m---------------------------------------------------------------------------\u001b[0m",
      "\u001b[0;31mNameError\u001b[0m                                 Traceback (most recent call last)",
      "\u001b[0;32m/var/folders/k7/7pfy_t7d11bckpngtmww9l5r0000gn/T/ipykernel_9025/3581671484.py\u001b[0m in \u001b[0;36m<module>\u001b[0;34m\u001b[0m\n\u001b[1;32m      1\u001b[0m \u001b[0;31m# We save the output\u001b[0m\u001b[0;34m\u001b[0m\u001b[0;34m\u001b[0m\u001b[0;34m\u001b[0m\u001b[0m\n\u001b[1;32m      2\u001b[0m np.save(path_outputs + name + '/simulation_households_center.npy',\n\u001b[0;32m----> 3\u001b[0;31m         simulation_households_center)\n\u001b[0m\u001b[1;32m      4\u001b[0m np.save(path_outputs + name + '/simulation_households_housing_type.npy',\n\u001b[1;32m      5\u001b[0m         simulation_households_housing_type)\n",
      "\u001b[0;31mNameError\u001b[0m: name 'simulation_households_center' is not defined"
     ]
    }
   ],
   "source": [
    "# We save the output\n",
    "np.save(path_outputs + name + '/simulation_households_center.npy',\n",
    "        simulation_households_center)\n",
    "np.save(path_outputs + name + '/simulation_households_housing_type.npy',\n",
    "        simulation_households_housing_type)\n",
    "np.save(path_outputs + name + '/simulation_dwelling_size.npy',\n",
    "        simulation_dwelling_size)\n",
    "np.save(path_outputs + name + '/simulation_rent.npy',\n",
    "        simulation_rent)\n",
    "np.save(path_outputs + name + '/simulation_households.npy',\n",
    "        simulation_households)\n",
    "np.save(path_outputs + name + '/simulation_error.npy',\n",
    "        simulation_error)\n",
    "np.save(path_outputs + name + '/simulation_housing_supply.npy',\n",
    "        simulation_housing_supply)\n",
    "np.save(path_outputs + name + '/simulation_utility.npy',\n",
    "        simulation_utility)\n",
    "np.save(path_outputs + name + '/simulation_deriv_housing.npy',\n",
    "        simulation_deriv_housing)\n",
    "np.save(path_outputs + name + '/simulation_T.npy',\n",
    "        simulation_T)"
   ]
  },
  {
   "cell_type": "code",
   "execution_count": null,
   "id": "132f1de5",
   "metadata": {},
   "outputs": [],
   "source": []
  }
 ],
 "metadata": {
  "jupytext": {
   "cell_markers": "region,endregion",
   "cell_metadata_filter": "-all",
   "formats": "ipynb,py"
  },
  "kernelspec": {
   "display_name": "Python 3 (ipykernel)",
   "language": "python",
   "name": "python3"
  },
  "language_info": {
   "codemirror_mode": {
    "name": "ipython",
    "version": 3
   },
   "file_extension": ".py",
   "mimetype": "text/x-python",
   "name": "python",
   "nbconvert_exporter": "python",
   "pygments_lexer": "ipython3",
   "version": "3.8.5"
  }
 },
 "nbformat": 4,
 "nbformat_minor": 5
}
